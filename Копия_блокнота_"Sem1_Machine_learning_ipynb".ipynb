{
  "nbformat": 4,
  "nbformat_minor": 0,
  "metadata": {
    "colab": {
      "provenance": [],
      "authorship_tag": "ABX9TyOgAvyq2HhLu8I0+WM9o82c",
      "include_colab_link": true
    },
    "kernelspec": {
      "name": "python3",
      "display_name": "Python 3"
    },
    "language_info": {
      "name": "python"
    }
  },
  "cells": [
    {
      "cell_type": "markdown",
      "metadata": {
        "id": "view-in-github",
        "colab_type": "text"
      },
      "source": [
        "<a href=\"https://colab.research.google.com/github/Dmitriy6655/Sem1_Machine_learning/blob/main/%D0%9A%D0%BE%D0%BF%D0%B8%D1%8F_%D0%B1%D0%BB%D0%BE%D0%BA%D0%BD%D0%BE%D1%82%D0%B0_%22Sem1_Machine_learning_ipynb%22.ipynb\" target=\"_parent\"><img src=\"https://colab.research.google.com/assets/colab-badge.svg\" alt=\"Open In Colab\"/></a>"
      ]
    },
    {
      "cell_type": "markdown",
      "source": [
        "Задание №1\n",
        "📌 Давайте вспомним, как загружать наборы данных. В течении курса мы будем\n",
        "использовать много разных датасетов, поэтому сейчас мы повторим как\n",
        "загружать датасеты, встроенные в библиотеку Sclearn, и так же повторим как\n",
        "это делать со сторонними наборами данных. Попробуйте загрузить\n",
        "встроенный датасет, например Boston House, а затем напишите, как бы вы\n",
        "подгрузили."
      ],
      "metadata": {
        "id": "0hPX_G9uUjO1"
      }
    },
    {
      "cell_type": "code",
      "execution_count": 2,
      "metadata": {
        "id": "cUGxZYO0NtvA"
      },
      "outputs": [],
      "source": [
        "from sklearn import datasets\n",
        "breast_cancer_dataset = datasets.load_breast_cancer()"
      ]
    },
    {
      "cell_type": "markdown",
      "source": [
        "Задание №2\n",
        "📌 Вам нужно рассчитать среднюю абсолютную ошибку (MAE) для заданного\n",
        "набора данных:\n",
        "actual_values = np.array([100, 150, 200, 250])\n",
        "predicted_values = np.array([90, 140, 180, 270])\n",
        "Вам дан набор пар значений — фактические значения целевой переменной и\n",
        "предсказанные значения. Ваша задача — вычислить абсолютную разницу\n",
        "между фактическими и предсказанными значениями видео, затем найти\n",
        "среднее значение всех этих разниц"
      ],
      "metadata": {
        "id": "RfknjL-ITJX4"
      }
    },
    {
      "cell_type": "code",
      "source": [
        "import numpy as np\n",
        "actual_values = np.array([100,150,200,250])\n",
        "predicted_values = np.array([90,140,180,270])\n",
        "mae = np.mean(np.abs(actual_values-predicted_values))\n",
        "print('MAE',mae)"
      ],
      "metadata": {
        "colab": {
          "base_uri": "https://localhost:8080/"
        },
        "id": "Fwl3EabzTLAg",
        "outputId": "ba4a24c5-8268-48fe-b792-a200e5fa7621"
      },
      "execution_count": 3,
      "outputs": [
        {
          "output_type": "stream",
          "name": "stdout",
          "text": [
            "MAE 15.0\n"
          ]
        }
      ]
    },
    {
      "cell_type": "markdown",
      "source": [
        "Задание №3\n",
        "📌 Вам дан набор данных с фактическими значениями целевой переменной и\n",
        "предсказанными значениями:\n",
        "actual_values = np.array([100, 150, 200, 250])\n",
        "predicted_values = np.array([90, 140, 180, 270])\n",
        "Ваша задача — рассчитать среднеквадратичную ошибку (MSE) для данного набора\n",
        "данных."
      ],
      "metadata": {
        "id": "RQqwUHfAWXUm"
      }
    },
    {
      "cell_type": "code",
      "source": [
        "mse=np.mean((actual_values-predicted_values)**2)\n",
        "print('MSE',mse)"
      ],
      "metadata": {
        "colab": {
          "base_uri": "https://localhost:8080/"
        },
        "id": "gYfSuHIZWYDT",
        "outputId": "72637a53-ec39-4fe0-ca49-9599d7e0545e"
      },
      "execution_count": 4,
      "outputs": [
        {
          "output_type": "stream",
          "name": "stdout",
          "text": [
            "MSE 250.0\n"
          ]
        }
      ]
    },
    {
      "cell_type": "markdown",
      "source": [
        "###Лекция 01.\n",
        " Классическое обучение. Основные понятия"
      ],
      "metadata": {
        "id": "zu6oZEA8b1tz"
      }
    },
    {
      "cell_type": "markdown",
      "source": [
        "###Пример 1"
      ],
      "metadata": {
        "id": "Y6cSz6mL1U1n"
      }
    },
    {
      "cell_type": "code",
      "source": [
        "\n",
        "%matplotlib inline\n",
        "import matplotlib.pyplot as plt\n",
        "import numpy as np\n",
        "\n",
        "\n",
        "\n",
        "\n"
      ],
      "metadata": {
        "id": "G7LDiFujkFwZ"
      },
      "execution_count": 5,
      "outputs": []
    },
    {
      "cell_type": "code",
      "source": [
        "x=[0,1,2,3,4,5,6]\n",
        "y=[0,1,2,3,4,5,6]"
      ],
      "metadata": {
        "id": "ZxCut687lH6D"
      },
      "execution_count": 6,
      "outputs": []
    },
    {
      "cell_type": "code",
      "source": [
        "plt.scatter(y, y, s=10)\n",
        "plt.xlabel('x')\n",
        "plt.ylabel('y')\n",
        "plt.show()"
      ],
      "metadata": {
        "colab": {
          "base_uri": "https://localhost:8080/",
          "height": 449
        },
        "id": "rU5t2vdXlJXJ",
        "outputId": "27248225-f3f5-46cb-9ad3-789e3577b509"
      },
      "execution_count": 7,
      "outputs": [
        {
          "output_type": "display_data",
          "data": {
            "text/plain": [
              "<Figure size 640x480 with 1 Axes>"
            ],
            "image/png": "[encoded data removed]"
          },
          "metadata": {}
        }
      ]
    },
    {
      "cell_type": "code",
      "source": [
        "y1=np.array([0,1,2,3,4,5,6])\n",
        "y2=np.array([0,1,2,10,5,4,8])\n",
        "y3=np.array([0,1,3,1,3,4,8])"
      ],
      "metadata": {
        "id": "IBI8s8_FnlES"
      },
      "execution_count": 8,
      "outputs": []
    },
    {
      "cell_type": "code",
      "source": [
        "plt.scatter(y, y, s=10)\n",
        "plt.plot(y1,'g')\n",
        "plt.plot(y2,'b')\n",
        "plt.plot(y3,'r')\n",
        "plt.xlabel('x')\n",
        "plt.ylabel('y')\n",
        "plt.show()\n"
      ],
      "metadata": {
        "colab": {
          "base_uri": "https://localhost:8080/",
          "height": 449
        },
        "id": "qm0VhgBwn38h",
        "outputId": "c49c28b6-abd7-4d8f-b0b3-2f2c4e8652d2"
      },
      "execution_count": 9,
      "outputs": [
        {
          "output_type": "display_data",
          "data": {
            "text/plain": [
              "<Figure size 640x480 with 1 Axes>"
            ],
            "image/png": "[encoded data removed]"
          },
          "metadata": {}
        }
      ]
    },
    {
      "cell_type": "code",
      "source": [
        "t1=sum(y-y1)\n",
        "t2=sum(y-y2)\n",
        "t3=sum(y-y3)\n",
        "print(t1,t2,t3)"
      ],
      "metadata": {
        "colab": {
          "base_uri": "https://localhost:8080/"
        },
        "id": "xx8TH-9apHIY",
        "outputId": "938c67c1-e69d-4a12-8524-ea722b4dbfe5"
      },
      "execution_count": 12,
      "outputs": [
        {
          "output_type": "stream",
          "name": "stdout",
          "text": [
            "0 -9 1\n"
          ]
        }
      ]
    },
    {
      "cell_type": "markdown",
      "source": [
        "Получим эмпирический риск путем раздлния функции потерь на число объектов:"
      ],
      "metadata": {
        "id": "T0H5CUAjvQXX"
      }
    },
    {
      "cell_type": "code",
      "source": [
        "t1=sum(y-y1)/len(y)\n",
        "t2=sum(y-y2)/len(y)\n",
        "t3=sum(y-y3)/len(y)\n",
        "print(t1,t2,t3)"
      ],
      "metadata": {
        "colab": {
          "base_uri": "https://localhost:8080/"
        },
        "id": "qo-YMUFAvPVd",
        "outputId": "f361d641-5cc7-4184-bef1-719618ba9735"
      },
      "execution_count": 13,
      "outputs": [
        {
          "output_type": "stream",
          "name": "stdout",
          "text": [
            "0.0 -1.2857142857142858 0.14285714285714285\n"
          ]
        }
      ]
    },
    {
      "cell_type": "markdown",
      "source": [
        "Вычислим MAE - сумма абсолютного (по модулю) значения разниц между целевым  и прогнозируемым значением."
      ],
      "metadata": {
        "id": "QJCULH41zrDm"
      }
    },
    {
      "cell_type": "code",
      "source": [
        "t1=sum(abs(y-y1))/len(y)\n",
        "t2=sum(abs(y-y2))/len(y)\n",
        "t3=sum(abs(y-y3))/len(y)\n",
        "print(t1,t2,t3)"
      ],
      "metadata": {
        "colab": {
          "base_uri": "https://localhost:8080/"
        },
        "id": "M-yU3eUbz-gp",
        "outputId": "fea20bce-dce3-46a1-cce0-8be7cb97c9c3"
      },
      "execution_count": 14,
      "outputs": [
        {
          "output_type": "stream",
          "name": "stdout",
          "text": [
            "0.0 1.5714285714285714 1.0\n"
          ]
        }
      ]
    },
    {
      "cell_type": "markdown",
      "source": [
        "###Пример 2"
      ],
      "metadata": {
        "id": "bgjQeJ_u1L16"
      }
    },
    {
      "cell_type": "code",
      "source": [
        "np.random.seed(0)"
      ],
      "metadata": {
        "id": "_r-KrZOZ3Axl"
      },
      "execution_count": 16,
      "outputs": []
    },
    {
      "cell_type": "code",
      "source": [
        "np.random.rand(100,1)"
      ],
      "metadata": {
        "colab": {
          "base_uri": "https://localhost:8080/"
        },
        "collapsed": true,
        "id": "SSU1TQN91OQy",
        "outputId": "050229c7-ac2e-4c4b-d9e9-94ed8c0f16ef"
      },
      "execution_count": 20,
      "outputs": [
        {
          "output_type": "execute_result",
          "data": {
            "text/plain": [
              "array([[0.26455561],\n",
              "       [0.77423369],\n",
              "       [0.45615033],\n",
              "       [0.56843395],\n",
              "       [0.0187898 ],\n",
              "       [0.6176355 ],\n",
              "       [0.61209572],\n",
              "       [0.616934  ],\n",
              "       [0.94374808],\n",
              "       [0.6818203 ],\n",
              "       [0.3595079 ],\n",
              "       [0.43703195],\n",
              "       [0.6976312 ],\n",
              "       [0.06022547],\n",
              "       [0.66676672],\n",
              "       [0.67063787],\n",
              "       [0.21038256],\n",
              "       [0.1289263 ],\n",
              "       [0.31542835],\n",
              "       [0.36371077],\n",
              "       [0.57019677],\n",
              "       [0.43860151],\n",
              "       [0.98837384],\n",
              "       [0.10204481],\n",
              "       [0.20887676],\n",
              "       [0.16130952],\n",
              "       [0.65310833],\n",
              "       [0.2532916 ],\n",
              "       [0.46631077],\n",
              "       [0.24442559],\n",
              "       [0.15896958],\n",
              "       [0.11037514],\n",
              "       [0.65632959],\n",
              "       [0.13818295],\n",
              "       [0.19658236],\n",
              "       [0.36872517],\n",
              "       [0.82099323],\n",
              "       [0.09710128],\n",
              "       [0.83794491],\n",
              "       [0.09609841],\n",
              "       [0.97645947],\n",
              "       [0.4686512 ],\n",
              "       [0.97676109],\n",
              "       [0.60484552],\n",
              "       [0.73926358],\n",
              "       [0.03918779],\n",
              "       [0.28280696],\n",
              "       [0.12019656],\n",
              "       [0.2961402 ],\n",
              "       [0.11872772],\n",
              "       [0.31798318],\n",
              "       [0.41426299],\n",
              "       [0.0641475 ],\n",
              "       [0.69247212],\n",
              "       [0.56660145],\n",
              "       [0.26538949],\n",
              "       [0.52324805],\n",
              "       [0.09394051],\n",
              "       [0.5759465 ],\n",
              "       [0.9292962 ],\n",
              "       [0.31856895],\n",
              "       [0.66741038],\n",
              "       [0.13179786],\n",
              "       [0.7163272 ],\n",
              "       [0.28940609],\n",
              "       [0.18319136],\n",
              "       [0.58651293],\n",
              "       [0.02010755],\n",
              "       [0.82894003],\n",
              "       [0.00469548],\n",
              "       [0.67781654],\n",
              "       [0.27000797],\n",
              "       [0.73519402],\n",
              "       [0.96218855],\n",
              "       [0.24875314],\n",
              "       [0.57615733],\n",
              "       [0.59204193],\n",
              "       [0.57225191],\n",
              "       [0.22308163],\n",
              "       [0.95274901],\n",
              "       [0.44712538],\n",
              "       [0.84640867],\n",
              "       [0.69947928],\n",
              "       [0.29743695],\n",
              "       [0.81379782],\n",
              "       [0.39650574],\n",
              "       [0.8811032 ],\n",
              "       [0.58127287],\n",
              "       [0.88173536],\n",
              "       [0.69253159],\n",
              "       [0.72525428],\n",
              "       [0.50132438],\n",
              "       [0.95608363],\n",
              "       [0.6439902 ],\n",
              "       [0.42385505],\n",
              "       [0.60639321],\n",
              "       [0.0191932 ],\n",
              "       [0.30157482],\n",
              "       [0.66017354],\n",
              "       [0.29007761]])"
            ]
          },
          "metadata": {},
          "execution_count": 20
        }
      ]
    }
  ]
}